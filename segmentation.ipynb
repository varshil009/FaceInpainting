{
 "cells": [
  {
   "cell_type": "code",
   "execution_count": 15,
   "id": "0bc4a2d2-541e-432c-8f26-265e424e4897",
   "metadata": {},
   "outputs": [],
   "source": [
    "import os\n",
    "import numpy as np\n",
    "import matplotlib.pyplot as plt\n",
    "import torch \n",
    "import torch.nn as nn\n",
    "import torch.nn.functional as F\n",
    "from torch.utils.data import Dataset, DataLoader\n",
    "from torchvision import transforms\n",
    "from PIL import Image\n",
    "from tqdm import tqdm"
   ]
  },
  {
   "cell_type": "code",
   "execution_count": 4,
   "id": "9a86a75e-300b-4b23-86da-b54721b3c524",
   "metadata": {},
   "outputs": [],
   "source": [
    "\n",
    "class Dataset(Dataset):\n",
    "    def __init__(self, images_dir, masks_dir, imasks_dir, features_dir, transform=None, feature_dim=128):\n",
    "        self.samples = []\n",
    "        self.transform = transform\n",
    "        self.feature_dim = min(feature_dim, 128)  # Ensure feature dimension is <= 128\n",
    "        \n",
    "        # If transform is not provided, use a default one\n",
    "        if self.transform is None:\n",
    "            self.transform = transforms.Compose([\n",
    "                transforms.Resize((256, 256)),\n",
    "                transforms.ToTensor(),\n",
    "            ])\n",
    "        \n",
    "        # Create separate transform for masks if needed\n",
    "        self.mask_transform = transforms.Compose([\n",
    "            transforms.Resize((256, 256)),\n",
    "            transforms.ToTensor(),\n",
    "        ])\n",
    "\n",
    "        self.imask_transform = transforms.Compose([\n",
    "            transforms.Resize((256, 256)),\n",
    "            transforms.ToTensor(),\n",
    "        ])\n",
    "        \n",
    "        # Loop over each class (subdirectory)\n",
    "        print(os.listdir(images_dir))\n",
    "        for class_name in os.listdir(images_dir):\n",
    "            class_path = os.path.join(images_dir, class_name)\n",
    "            if not os.path.isdir(class_path):\n",
    "                continue\n",
    "                \n",
    "            img_dir = os.path.join(class_path, 'occluded')\n",
    "            mask_dir = os.path.join(class_path, 'masks')\n",
    "            imask_dir = os.path.join(class_path, 'imasks')\n",
    "            \n",
    "            # Check if directories exist\n",
    "            if not os.path.exists(img_dir) or not os.path.exists(mask_dir):\n",
    "                print(f\"Warning: Missing directories for class {class_name}\")\n",
    "                continue\n",
    "            # Check if directories exist\n",
    "            if not os.path.exists(img_dir) or not os.path.exists(imask_dir):\n",
    "                print(f\"Warning: Missing directories for class {class_name}\")\n",
    "                continue\n",
    "            # Check feature file\n",
    "            feat_path = os.path.join(features_dir, class_name + '.npy')\n",
    "            if not os.path.exists(feat_path):\n",
    "                print(f\"Warning: Missing feature file for class {class_name}\")\n",
    "                continue\n",
    "                \n",
    "            for img_name in os.listdir(img_dir):\n",
    "                if img_name.endswith(('.jpg', '.png')):\n",
    "                    base_name = os.path.splitext(img_name)[0]  # e.g., \"happy_001\"\n",
    "                    mask_path = os.path.join(mask_dir, base_name + '_mask.png')\n",
    "                    imask_path = os.path.join(imask_dir, base_name + '_imask.png')\n",
    "                    \n",
    "                    # Verify that the corresponding mask exists\n",
    "                    if not os.path.exists(mask_path):\n",
    "                        print(f\"Warning: Missing mask for {img_name} in class {class_name}\")\n",
    "                        continue\n",
    "\n",
    "                    if not os.path.exists(imask_path):\n",
    "                        print(f\"Warning: Missing mask for {img_name} in class {class_name}\")\n",
    "                        continue\n",
    "            \n",
    "                    self.samples.append({\n",
    "                        'class': class_name,\n",
    "                        'img_path': os.path.join(img_dir, img_name),\n",
    "                        'mask_path': mask_path,\n",
    "                        'imask_path': imask_path,\n",
    "                        'feat_path': feat_path,\n",
    "                        'img_name': img_name\n",
    "                    })\n",
    "        \n",
    "        print(f\"Dataset initialized with {len(self.samples)} samples\")\n",
    "                    \n",
    "    def __len__(self):\n",
    "        return len(self.samples)\n",
    "    \n",
    "    def _resize_feature(self, feature, target_dim):\n",
    "        \"\"\"Resize feature vector to target dimension\"\"\"\n",
    "        feature_len = len(feature)\n",
    "        \n",
    "        if feature_len == target_dim:\n",
    "            return feature\n",
    "        elif feature_len > target_dim:\n",
    "            # Truncate to target dimension\n",
    "            return feature[:target_dim]\n",
    "        else:\n",
    "            # Pad with zeros to target dimension\n",
    "            padded = np.zeros(target_dim)\n",
    "            padded[:feature_len] = feature\n",
    "            return padded\n",
    "        \n",
    "    def __getitem__(self, idx):\n",
    "        sample = self.samples[idx]\n",
    "        \n",
    "        try:\n",
    "            # Load image and mask\n",
    "            image = Image.open(sample['img_path']).convert('RGB')\n",
    "            mask = Image.open(sample['mask_path']).convert('L')\n",
    "            imask = Image.open(sample['imask_path']).convert('RGB')\n",
    "            \n",
    "            \n",
    "            # Apply transformations\n",
    "            image = self.transform(image)\n",
    "            mask = self.mask_transform(mask)\n",
    "            imask = self.imask_transform(imask)\n",
    "            \n",
    "            \n",
    "            # Binarize mask (0 or 1)\n",
    "            mask = (mask > 0.5).float()\n",
    "            \n",
    "            # Load feature vector and resize to consistent dimension\n",
    "            feature = np.load(sample['feat_path'])\n",
    "            \n",
    "            # If feature is multi-dimensional, flatten first\n",
    "            if feature.ndim > 1:\n",
    "                feature = feature.flatten()\n",
    "                \n",
    "            # Resize feature to target dimension\n",
    "            feature = self._resize_feature(feature, self.feature_dim)\n",
    "            feature = torch.tensor(feature, dtype=torch.float32)\n",
    "            \n",
    "            return {\n",
    "                'occluded_image': image,\n",
    "                'mask': mask,\n",
    "                'imask' : imask, \n",
    "                'feature': feature,\n",
    "                'image_name': sample['img_name'],\n",
    "                'class_name': sample['class']\n",
    "            }\n",
    "            \n",
    "        except Exception as e:\n",
    "            print(f\"Error loading sample {idx}: {e}\")\n",
    "            # Return a default item in case of errors\n",
    "            return {\n",
    "                'occluded_image': torch.zeros(3, 256, 256),\n",
    "                'mask': torch.zeros(1, 256, 256),\n",
    "                'imask': torch.zeros(3, 256, 256),\n",
    "                'feature': torch.zeros(self.feature_dim),\n",
    "                'image_name': 'error_image.jpg',\n",
    "                'class_name': 'error'\n",
    "            }\n"
   ]
  },
  {
   "cell_type": "code",
   "execution_count": 5,
   "id": "64848853-c3c2-4926-bc59-a34293314ebf",
   "metadata": {},
   "outputs": [
    {
     "name": "stdout",
     "output_type": "stream",
     "text": [
      "['2820', '3227', '3699', '3745', '3782', '4887', '6568', '8968', '9152', '9256']\n",
      "Warning: Missing mask for 9152_10_9.jpg in class 9152\n",
      "Warning: Missing mask for 9152_11_3.jpg in class 9152\n",
      "Dataset initialized with 5094 samples\n",
      "Batch 0\n",
      "Images shape: torch.Size([8, 3, 256, 256])\n",
      "Masks shape: torch.Size([8, 1, 256, 256])\n"
     ]
    },
    {
     "data": {
      "image/png": "[encoded data removed]",
      "text/plain": [
       "<Figure size 640x480 with 2 Axes>"
      ]
     },
     "metadata": {},
     "output_type": "display_data"
    }
   ],
   "source": [
    "images_dir='/home/jt/GAN/occluded_dataset/occluded_dataset_BIG_NEW_x'\n",
    "masks_dir='/home/jt/GAN/occluded_dataset/occluded_dataset_BIG_NEW_x'\n",
    "imasks_dir='/home/jt/GAN/occluded_dataset/occluded_dataset_BIG_NEW_x'\n",
    "features_dir='/home/jt/GAN/face_features'\n",
    "\n",
    "# Create dataset with feature dimension of 64 (or any value <= 128)\n",
    "dataset = Dataset(\n",
    "    images_dir=images_dir, \n",
    "    masks_dir=masks_dir, \n",
    "    imasks_dir = imasks_dir,\n",
    "    features_dir=features_dir,\n",
    "    feature_dim=128  # Choose your desired dimension\n",
    ")\n",
    "\n",
    "# Create DataLoader with standard collate function (now safe)\n",
    "loader = DataLoader(\n",
    "    dataset, \n",
    "    batch_size=8, \n",
    "    shuffle=True, \n",
    "    num_workers=2\n",
    ")\n",
    "\n",
    "# Test the dataloader\n",
    "for i, batch in enumerate(loader):\n",
    "    print(f\"Batch {i}\")\n",
    "    print(f\"Images shape: {batch['occluded_image'].shape}\")\n",
    "    print(f\"Masks shape: {batch['mask'].shape}\")\n",
    "    #print(f\"Features shape: {batch['feature'].shape}\")  # Should be [batch_size, feature_dim]\n",
    "    #print(f\"Classes: {batch['class_name']}\")\n",
    "    plt.subplot(1, 3, 1)\n",
    "    plt.imshow(batch['occluded_image'][0].permute(1, 2, 0))\n",
    "\n",
    "    plt.subplot(1, 3, 2)\n",
    "    plt.imshow(batch['mask'][0].permute(1, 2, 0))\n",
    "    #plt.subplot(1, 3, 3)\n",
    "    #plt.imshow(batch['imask'][0].permute(1, 2, 0))\n",
    "    \n",
    "    # Break after first batch for testing\n",
    "    if i == 0:\n",
    "        break"
   ]
  },
  {
   "cell_type": "code",
   "execution_count": 7,
   "id": "75b96a0e-2937-4cd9-aed6-54f9735300c6",
   "metadata": {},
   "outputs": [],
   "source": [
    "class DoubleConv(nn.Module):\n",
    "    def __init__(self, in_channels, out_channels):\n",
    "        super().__init__()\n",
    "        self.conv = nn.Sequential(\n",
    "            nn.Conv2d(in_channels, out_channels, 3, padding=1),\n",
    "            nn.BatchNorm2d(out_channels),\n",
    "            nn.ReLU(inplace=True),\n",
    "            nn.Conv2d(out_channels, out_channels, 3, padding=1),\n",
    "            nn.BatchNorm2d(out_channels),\n",
    "            nn.ReLU(inplace=True)\n",
    "        )\n",
    "\n",
    "    def forward(self, x):\n",
    "        return self.conv(x)\n",
    "\n",
    "class UNet(nn.Module):\n",
    "    def __init__(self, in_channels=3, out_channels=1):\n",
    "        super().__init__()\n",
    "        self.dconv_down1 = DoubleConv(in_channels, 64)\n",
    "        self.dconv_down2 = DoubleConv(64, 128)\n",
    "        self.dconv_down3 = DoubleConv(128, 256)\n",
    "        self.dconv_down4 = DoubleConv(256, 512)\n",
    "        \n",
    "        self.maxpool = nn.MaxPool2d(2)\n",
    "        self.upsample = nn.ConvTranspose2d(512, 512, 2, stride=2)\n",
    "\n",
    "        self.dconv_up3 = DoubleConv(256 + 512, 256)\n",
    "        self.dconv_up2 = DoubleConv(128 + 256, 128)\n",
    "        self.dconv_up1 = DoubleConv(128 + 64, 64)\n",
    "        \n",
    "        self.conv_last = nn.Conv2d(64, out_channels, 1)\n",
    "\n",
    "    def forward(self, x):\n",
    "        conv1 = self.dconv_down1(x)\n",
    "        x = self.maxpool(conv1)\n",
    "        conv2 = self.dconv_down2(x)\n",
    "        x = self.maxpool(conv2)\n",
    "        conv3 = self.dconv_down3(x)\n",
    "        x = self.maxpool(conv3)\n",
    "        x = self.dconv_down4(x)\n",
    "\n",
    "        x = self.upsample(x)\n",
    "        x = torch.cat([x, conv3], dim=1)\n",
    "        x = self.dconv_up3(x)\n",
    "        \n",
    "        x = F.interpolate(x, scale_factor=2, mode='bilinear', align_corners=True)\n",
    "        x = torch.cat([x, conv2], dim=1)\n",
    "        x = self.dconv_up2(x)\n",
    "        \n",
    "        x = F.interpolate(x, scale_factor=2, mode='bilinear', align_corners=True)\n",
    "        x = torch.cat([x, conv1], dim=1)\n",
    "        x = self.dconv_up1(x)\n",
    "        \n",
    "        out = self.conv_last(x)\n",
    "        return out  # Note: logits (no sigmoid yet)\n"
   ]
  },
  {
   "cell_type": "code",
   "execution_count": 12,
   "id": "230f60c6-7808-4c57-91ae-d7d73d18dd0a",
   "metadata": {},
   "outputs": [
    {
     "data": {
      "text/plain": [
       "device(type='cuda')"
      ]
     },
     "execution_count": 12,
     "metadata": {},
     "output_type": "execute_result"
    }
   ],
   "source": [
    "device = torch.device(\"cuda\" if torch.cuda.is_available() else \"cpu\")\n",
    "device"
   ]
  },
  {
   "cell_type": "code",
   "execution_count": 48,
   "id": "236d2a7a-33e8-4f18-98ee-d48388d6a621",
   "metadata": {},
   "outputs": [],
   "source": [
    "def compute_iou(pred, target):\n",
    "    pred = pred.bool()\n",
    "    target = target.bool()\n",
    "    intersection = (pred & target).sum().item()\n",
    "    union = (pred | target).sum().item()\n",
    "    return intersection / union if union > 0 else 1.0\n",
    "\n",
    "def compute_dice(pred, target):\n",
    "    pred = pred.bool()\n",
    "    target = target.bool()\n",
    "    intersection = (pred & target).sum().item()\n",
    "    return 2 * intersection / (pred.sum().item() + target.sum().item()) if pred.sum().item() + target.sum().item() > 0 else 1.0"
   ]
  },
  {
   "cell_type": "code",
   "execution_count": 49,
   "id": "19aa1152-9c98-443a-bd91-640796cfd1e0",
   "metadata": {},
   "outputs": [
    {
     "name": "stderr",
     "output_type": "stream",
     "text": [
      "                                                                                                            "
     ]
    },
    {
     "name": "stdout",
     "output_type": "stream",
     "text": [
      "Epoch 1/30 - Loss: 0.2121 | IoU: 0.6113 | Dice: 0.6772\n"
     ]
    },
    {
     "name": "stderr",
     "output_type": "stream",
     "text": [
      "                                                                                                            "
     ]
    },
    {
     "name": "stdout",
     "output_type": "stream",
     "text": [
      "Epoch 2/30 - Loss: 0.0763 | IoU: 0.7960 | Dice: 0.8468\n"
     ]
    },
    {
     "name": "stderr",
     "output_type": "stream",
     "text": [
      "                                                                                                            "
     ]
    },
    {
     "name": "stdout",
     "output_type": "stream",
     "text": [
      "Epoch 3/30 - Loss: 0.0369 | IoU: 0.8591 | Dice: 0.8990\n"
     ]
    },
    {
     "name": "stderr",
     "output_type": "stream",
     "text": [
      "                                                                                                            "
     ]
    },
    {
     "name": "stdout",
     "output_type": "stream",
     "text": [
      "Epoch 4/30 - Loss: 0.0213 | IoU: 0.8877 | Dice: 0.9219\n"
     ]
    },
    {
     "name": "stderr",
     "output_type": "stream",
     "text": [
      "                                                                                                            "
     ]
    },
    {
     "name": "stdout",
     "output_type": "stream",
     "text": [
      "Epoch 5/30 - Loss: 0.0136 | IoU: 0.9074 | Dice: 0.9362\n"
     ]
    },
    {
     "name": "stderr",
     "output_type": "stream",
     "text": [
      "                                                                                                            "
     ]
    },
    {
     "name": "stdout",
     "output_type": "stream",
     "text": [
      "Epoch 6/30 - Loss: 0.0090 | IoU: 0.9243 | Dice: 0.9495\n"
     ]
    },
    {
     "name": "stderr",
     "output_type": "stream",
     "text": [
      "                                                                                                            "
     ]
    },
    {
     "name": "stdout",
     "output_type": "stream",
     "text": [
      "Epoch 7/30 - Loss: 0.0074 | IoU: 0.9257 | Dice: 0.9508\n"
     ]
    },
    {
     "name": "stderr",
     "output_type": "stream",
     "text": [
      "                                                                                                            "
     ]
    },
    {
     "name": "stdout",
     "output_type": "stream",
     "text": [
      "Epoch 8/30 - Loss: 0.0054 | IoU: 0.9360 | Dice: 0.9580\n"
     ]
    },
    {
     "name": "stderr",
     "output_type": "stream",
     "text": [
      "                                                                                                            "
     ]
    },
    {
     "name": "stdout",
     "output_type": "stream",
     "text": [
      "Epoch 9/30 - Loss: 0.0040 | IoU: 0.9462 | Dice: 0.9660\n"
     ]
    },
    {
     "name": "stderr",
     "output_type": "stream",
     "text": [
      "                                                                                                            "
     ]
    },
    {
     "name": "stdout",
     "output_type": "stream",
     "text": [
      "Epoch 10/30 - Loss: 0.0043 | IoU: 0.9384 | Dice: 0.9597\n"
     ]
    },
    {
     "name": "stderr",
     "output_type": "stream",
     "text": [
      "                                                                                                            "
     ]
    },
    {
     "name": "stdout",
     "output_type": "stream",
     "text": [
      "Epoch 11/30 - Loss: 0.0029 | IoU: 0.9531 | Dice: 0.9709\n"
     ]
    },
    {
     "name": "stderr",
     "output_type": "stream",
     "text": [
      "                                                                                                            "
     ]
    },
    {
     "name": "stdout",
     "output_type": "stream",
     "text": [
      "Epoch 12/30 - Loss: 0.0029 | IoU: 0.9518 | Dice: 0.9697\n"
     ]
    },
    {
     "name": "stderr",
     "output_type": "stream",
     "text": [
      "                                                                                                            "
     ]
    },
    {
     "name": "stdout",
     "output_type": "stream",
     "text": [
      "Epoch 13/30 - Loss: 0.0021 | IoU: 0.9593 | Dice: 0.9755\n"
     ]
    },
    {
     "name": "stderr",
     "output_type": "stream",
     "text": [
      "                                                                                                            "
     ]
    },
    {
     "name": "stdout",
     "output_type": "stream",
     "text": [
      "Epoch 14/30 - Loss: 0.0028 | IoU: 0.9508 | Dice: 0.9695\n"
     ]
    },
    {
     "name": "stderr",
     "output_type": "stream",
     "text": [
      "                                                                                                            "
     ]
    },
    {
     "name": "stdout",
     "output_type": "stream",
     "text": [
      "Epoch 15/30 - Loss: 0.0029 | IoU: 0.9480 | Dice: 0.9660\n"
     ]
    },
    {
     "name": "stderr",
     "output_type": "stream",
     "text": [
      "                                                                                                            "
     ]
    },
    {
     "name": "stdout",
     "output_type": "stream",
     "text": [
      "Epoch 16/30 - Loss: 0.0021 | IoU: 0.9577 | Dice: 0.9739\n"
     ]
    },
    {
     "name": "stderr",
     "output_type": "stream",
     "text": [
      "                                                                                                            "
     ]
    },
    {
     "name": "stdout",
     "output_type": "stream",
     "text": [
      "Epoch 17/30 - Loss: 0.0014 | IoU: 0.9677 | Dice: 0.9811\n"
     ]
    },
    {
     "name": "stderr",
     "output_type": "stream",
     "text": [
      "                                                                                                            "
     ]
    },
    {
     "name": "stdout",
     "output_type": "stream",
     "text": [
      "Epoch 18/30 - Loss: 0.0013 | IoU: 0.9698 | Dice: 0.9827\n"
     ]
    },
    {
     "name": "stderr",
     "output_type": "stream",
     "text": [
      "                                                                                                            "
     ]
    },
    {
     "name": "stdout",
     "output_type": "stream",
     "text": [
      "Epoch 19/30 - Loss: 0.0012 | IoU: 0.9716 | Dice: 0.9840\n"
     ]
    },
    {
     "name": "stderr",
     "output_type": "stream",
     "text": [
      "                                                                                                            "
     ]
    },
    {
     "name": "stdout",
     "output_type": "stream",
     "text": [
      "Epoch 20/30 - Loss: 0.0028 | IoU: 0.9521 | Dice: 0.9697\n"
     ]
    },
    {
     "name": "stderr",
     "output_type": "stream",
     "text": [
      "                                                                                                            "
     ]
    },
    {
     "name": "stdout",
     "output_type": "stream",
     "text": [
      "Epoch 21/30 - Loss: 0.0017 | IoU: 0.9622 | Dice: 0.9769\n"
     ]
    },
    {
     "name": "stderr",
     "output_type": "stream",
     "text": [
      "                                                                                                            "
     ]
    },
    {
     "name": "stdout",
     "output_type": "stream",
     "text": [
      "Epoch 22/30 - Loss: 0.0012 | IoU: 0.9713 | Dice: 0.9836\n"
     ]
    },
    {
     "name": "stderr",
     "output_type": "stream",
     "text": [
      "                                                                                                            "
     ]
    },
    {
     "name": "stdout",
     "output_type": "stream",
     "text": [
      "Epoch 23/30 - Loss: 0.0011 | IoU: 0.9730 | Dice: 0.9848\n"
     ]
    },
    {
     "name": "stderr",
     "output_type": "stream",
     "text": [
      "                                                                                                            "
     ]
    },
    {
     "name": "stdout",
     "output_type": "stream",
     "text": [
      "Epoch 24/30 - Loss: 0.0024 | IoU: 0.9572 | Dice: 0.9732\n"
     ]
    },
    {
     "name": "stderr",
     "output_type": "stream",
     "text": [
      "                                                                                                            "
     ]
    },
    {
     "name": "stdout",
     "output_type": "stream",
     "text": [
      "Epoch 25/30 - Loss: 0.0016 | IoU: 0.9643 | Dice: 0.9785\n"
     ]
    },
    {
     "name": "stderr",
     "output_type": "stream",
     "text": [
      "                                                                                                            "
     ]
    },
    {
     "name": "stdout",
     "output_type": "stream",
     "text": [
      "Epoch 26/30 - Loss: 0.0011 | IoU: 0.9732 | Dice: 0.9847\n"
     ]
    },
    {
     "name": "stderr",
     "output_type": "stream",
     "text": [
      "                                                                                                            "
     ]
    },
    {
     "name": "stdout",
     "output_type": "stream",
     "text": [
      "Epoch 27/30 - Loss: 0.0010 | IoU: 0.9751 | Dice: 0.9861\n"
     ]
    },
    {
     "name": "stderr",
     "output_type": "stream",
     "text": [
      "                                                                                                            "
     ]
    },
    {
     "name": "stdout",
     "output_type": "stream",
     "text": [
      "Epoch 28/30 - Loss: 0.0009 | IoU: 0.9763 | Dice: 0.9869\n"
     ]
    },
    {
     "name": "stderr",
     "output_type": "stream",
     "text": [
      "                                                                                                            "
     ]
    },
    {
     "name": "stdout",
     "output_type": "stream",
     "text": [
      "Epoch 29/30 - Loss: 0.0009 | IoU: 0.9765 | Dice: 0.9870\n"
     ]
    },
    {
     "name": "stderr",
     "output_type": "stream",
     "text": [
      "                                                                                                            "
     ]
    },
    {
     "name": "stdout",
     "output_type": "stream",
     "text": [
      "Epoch 30/30 - Loss: 0.0027 | IoU: 0.9564 | Dice: 0.9720\n"
     ]
    },
    {
     "name": "stderr",
     "output_type": "stream",
     "text": []
    }
   ],
   "source": [
    "model = UNet().to(device)\n",
    "optimizer = torch.optim.Adam(model.parameters(), lr=1e-4)\n",
    "criterion = nn.BCEWithLogitsLoss()\n",
    "num_epochs = 30\n",
    "\n",
    "for epoch in range(num_epochs):\n",
    "    model.train()\n",
    "    epoch_loss = 0\n",
    "    total_iou = 0\n",
    "    total_dice = 0\n",
    "    count = 0\n",
    "\n",
    "    progress_bar = tqdm(loader, desc=f\"Epoch {epoch+1}/{num_epochs}\", leave=False)\n",
    "\n",
    "    for batch in progress_bar:\n",
    "        images = batch['occluded_image'].to(device)\n",
    "        masks = batch['mask'].to(device)\n",
    "\n",
    "        optimizer.zero_grad()\n",
    "        outputs = model(images)\n",
    "        loss = criterion(outputs, masks)\n",
    "        loss.backward()\n",
    "        optimizer.step()\n",
    "\n",
    "        # Post-processing for evaluation\n",
    "        preds = torch.sigmoid(outputs)\n",
    "        preds = (preds > 0.5).float()\n",
    "\n",
    "        for pred, target in zip(preds, masks):\n",
    "            total_iou += compute_iou(pred, target)\n",
    "            total_dice += compute_dice(pred, target)\n",
    "            count += 1\n",
    "\n",
    "        epoch_loss += loss.item()\n",
    "        progress_bar.set_postfix(loss=loss.item())\n",
    "\n",
    "    avg_loss = epoch_loss / len(loader)\n",
    "    avg_iou = total_iou / count\n",
    "    avg_dice = total_dice / count\n",
    "\n",
    "    print(f\"Epoch {epoch+1}/{num_epochs} - Loss: {avg_loss:.4f} | IoU: {avg_iou:.4f} | Dice: {avg_dice:.4f}\")"
   ]
  },
  {
   "cell_type": "code",
   "execution_count": 68,
   "id": "7477af6d-df66-4e95-8ebf-de3d8efd7698",
   "metadata": {},
   "outputs": [],
   "source": [
    "image = \"/home/jt/GAN/occluded_dataset/occluded_dataset_BIG_NEW_x/4887/occluded/4887_0_18.jpg\""
   ]
  },
  {
   "cell_type": "code",
   "execution_count": 69,
   "id": "56c4c5e7-1344-4407-b690-2effd59e0a77",
   "metadata": {},
   "outputs": [],
   "source": [
    "from PIL import Image\n",
    "from torchvision import transforms\n",
    "\n",
    "# Load and transform image\n",
    "img = Image.open(image).convert(\"RGB\")\n",
    "transform = transforms.Compose([\n",
    "    transforms.Resize((256, 256)),\n",
    "    transforms.ToTensor(),  # Converts to [0, 1] range and shape [3, H, W]\n",
    "])\n",
    "image = transform(img).unsqueeze(0).to(device)  # Add batch dimension: [1, 3, H, W]"
   ]
  },
  {
   "cell_type": "code",
   "execution_count": 70,
   "id": "1e1f95d0-907f-41ca-8bd5-eaa6216ed521",
   "metadata": {},
   "outputs": [],
   "source": [
    "output = torch.sigmoid(model(image))\n",
    "binary_mask = (output > 0.5).float()"
   ]
  },
  {
   "cell_type": "code",
   "execution_count": 71,
   "id": "c68a7740-1e60-4a82-821d-de6c28574d15",
   "metadata": {},
   "outputs": [
    {
     "data": {
      "image/png": "[encoded data removed]",
      "text/plain": [
       "<Figure size 640x480 with 1 Axes>"
      ]
     },
     "metadata": {},
     "output_type": "display_data"
    }
   ],
   "source": [
    "mask_np = binary_mask[0].squeeze().cpu().detach().numpy()\n",
    "\n",
    "plt.imshow(mask_np, cmap='gray')\n",
    "plt.axis('off')  # Optional: hide axes\n",
    "plt.title(\"Predicted Binary Mask\")\n",
    "plt.show()"
   ]
  },
  {
   "cell_type": "code",
   "execution_count": 72,
   "id": "aa589fe8-71ae-48ca-96ea-f3a3fc2f1be9",
   "metadata": {},
   "outputs": [
    {
     "name": "stdout",
     "output_type": "stream",
     "text": [
      "Model saved at unet_30_epoch.pth\n"
     ]
    }
   ],
   "source": [
    "# Define the path where you want to save the model\n",
    "checkpoint_path = \"unet_30_epoch.pth\"\n",
    "\n",
    "# Save the model state_dict and optimizer state_dict\n",
    "torch.save({\n",
    "    'epoch': epoch,  # The current epoch, useful if resuming training\n",
    "    'model_state_dict': model.state_dict(),\n",
    "    'optimizer_state_dict': optimizer.state_dict(),\n",
    "    'loss': epoch_loss,  # Optionally save the last epoch loss\n",
    "}, checkpoint_path)\n",
    "\n",
    "print(f\"Model saved at {checkpoint_path}\")"
   ]
  },
  {
   "cell_type": "code",
   "execution_count": null,
   "id": "c87fc32e-ada7-450e-be1d-f586a33e0076",
   "metadata": {},
   "outputs": [
    {
     "name": "stdout",
     "output_type": "stream",
     "text": [
      "Model reloaded from checkpoint at epoch 29.\n"
     ]
    }
   ],
   "source": [
    "### reloading\n",
    "# Initialize the model and optimizer again (use the same architecture)\n",
    "model = UNet().to(device)  # Or your custom model architecture\n",
    "optimizer = torch.optim.Adam(model.parameters(), lr=1e-4)  # Same optimizer used during training\n",
    "\n",
    "# Load the saved checkpoint\n",
    "checkpoint = torch.load(\"unet_30_epoch.pth\")\n",
    "\n",
    "# Load model weights and optimizer state\n",
    "model.load_state_dict(checkpoint['model_state_dict'])\n",
    "optimizer.load_state_dict(checkpoint['optimizer_state_dict'])\n",
    "\n",
    "# Optionally, you can also retrieve the epoch and loss (for training continuation)\n",
    "epoch = checkpoint['epoch']\n",
    "epoch_loss = checkpoint['loss']\n",
    "\n",
    "print(f\"Model reloaded from checkpoint at epoch {epoch}.\")"
   ]
  },
  {
   "cell_type": "code",
   "execution_count": null,
   "id": "c97c6635-eb4e-4def-8abe-503ec5ab8280",
   "metadata": {},
   "outputs": [],
   "source": []
  }
 ],
 "metadata": {
  "kernelspec": {
   "display_name": "Python 3 (ipykernel)",
   "language": "python",
   "name": "python3"
  },
  "language_info": {
   "codemirror_mode": {
    "name": "ipython",
    "version": 3
   },
   "file_extension": ".py",
   "mimetype": "text/x-python",
   "name": "python",
   "nbconvert_exporter": "python",
   "pygments_lexer": "ipython3",
   "version": "3.9.21"
  }
 },
 "nbformat": 4,
 "nbformat_minor": 5
}
