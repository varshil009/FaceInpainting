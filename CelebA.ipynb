{
 "cells": [
  {
   "cell_type": "code",
   "execution_count": 1,
   "id": "22504937-6304-472f-be0f-6208b9722bea",
   "metadata": {},
   "outputs": [],
   "source": [
    "f = open(r\"C:\\Users\\Varshil\\Downloads\\identity_CelebA.txt\", \"r\").read()"
   ]
  },
  {
   "cell_type": "code",
   "execution_count": 2,
   "id": "20238758-2592-480e-9383-52463b75b736",
   "metadata": {},
   "outputs": [
    {
     "data": {
      "text/plain": [
       "'000001.jpg 2880\\n000002.jpg 2937\\n000003.jpg 8692\\n000004.jpg 5805\\n000005.jpg 9295\\n000006.jpg 4153\\n0000'"
      ]
     },
     "execution_count": 2,
     "metadata": {},
     "output_type": "execute_result"
    }
   ],
   "source": [
    "f[:100]"
   ]
  },
  {
   "cell_type": "code",
   "execution_count": 3,
   "id": "50aa104c-618a-4c77-8e6b-69f76efd1baa",
   "metadata": {},
   "outputs": [],
   "source": [
    "file = f.split(\"\\n\")"
   ]
  },
  {
   "cell_type": "code",
   "execution_count": 6,
   "id": "04a637d7-4e0f-4f3b-b32a-ee98e4f89f13",
   "metadata": {},
   "outputs": [],
   "source": [
    "labels = []\n",
    "\n",
    "for x in file:\n",
    "    labels.append(x.split())"
   ]
  },
  {
   "cell_type": "code",
   "execution_count": 7,
   "id": "63ee430b-fd2f-4916-a5d6-5b640d8a28a9",
   "metadata": {},
   "outputs": [],
   "source": [
    "import pandas as pd\n",
    "df = pd.DataFrame(labels, columns = [\"name\", \"class\"])"
   ]
  },
  {
   "cell_type": "code",
   "execution_count": 8,
   "id": "81f03c4a-5e89-4051-829d-f87f51b8dc20",
   "metadata": {},
   "outputs": [
    {
     "data": {
      "text/html": [
       "<div>\n",
       "<style scoped>\n",
       "    .dataframe tbody tr th:only-of-type {\n",
       "        vertical-align: middle;\n",
       "    }\n",
       "\n",
       "    .dataframe tbody tr th {\n",
       "        vertical-align: top;\n",
       "    }\n",
       "\n",
       "    .dataframe thead th {\n",
       "        text-align: right;\n",
       "    }\n",
       "</style>\n",
       "<table border=\"1\" class=\"dataframe\">\n",
       "  <thead>\n",
       "    <tr style=\"text-align: right;\">\n",
       "      <th></th>\n",
       "      <th>name</th>\n",
       "      <th>class</th>\n",
       "    </tr>\n",
       "  </thead>\n",
       "  <tbody>\n",
       "    <tr>\n",
       "      <th>0</th>\n",
       "      <td>000001.jpg</td>\n",
       "      <td>2880</td>\n",
       "    </tr>\n",
       "    <tr>\n",
       "      <th>1</th>\n",
       "      <td>000002.jpg</td>\n",
       "      <td>2937</td>\n",
       "    </tr>\n",
       "    <tr>\n",
       "      <th>2</th>\n",
       "      <td>000003.jpg</td>\n",
       "      <td>8692</td>\n",
       "    </tr>\n",
       "    <tr>\n",
       "      <th>3</th>\n",
       "      <td>000004.jpg</td>\n",
       "      <td>5805</td>\n",
       "    </tr>\n",
       "    <tr>\n",
       "      <th>4</th>\n",
       "      <td>000005.jpg</td>\n",
       "      <td>9295</td>\n",
       "    </tr>\n",
       "  </tbody>\n",
       "</table>\n",
       "</div>"
      ],
      "text/plain": [
       "         name class\n",
       "0  000001.jpg  2880\n",
       "1  000002.jpg  2937\n",
       "2  000003.jpg  8692\n",
       "3  000004.jpg  5805\n",
       "4  000005.jpg  9295"
      ]
     },
     "execution_count": 8,
     "metadata": {},
     "output_type": "execute_result"
    }
   ],
   "source": [
    "df.head()"
   ]
  },
  {
   "cell_type": "code",
   "execution_count": 11,
   "id": "1c747644-fa0a-4cfa-a2c3-bf4034bf282a",
   "metadata": {},
   "outputs": [],
   "source": [
    "most_repeated = df[\"class\"].value_counts().reset_index().head(10)"
   ]
  },
  {
   "cell_type": "code",
   "execution_count": 12,
   "id": "5373edd9-bfb8-4560-8d00-5f808a8a14d0",
   "metadata": {},
   "outputs": [
    {
     "data": {
      "text/html": [
       "<div>\n",
       "<style scoped>\n",
       "    .dataframe tbody tr th:only-of-type {\n",
       "        vertical-align: middle;\n",
       "    }\n",
       "\n",
       "    .dataframe tbody tr th {\n",
       "        vertical-align: top;\n",
       "    }\n",
       "\n",
       "    .dataframe thead th {\n",
       "        text-align: right;\n",
       "    }\n",
       "</style>\n",
       "<table border=\"1\" class=\"dataframe\">\n",
       "  <thead>\n",
       "    <tr style=\"text-align: right;\">\n",
       "      <th></th>\n",
       "      <th>class</th>\n",
       "      <th>count</th>\n",
       "    </tr>\n",
       "  </thead>\n",
       "  <tbody>\n",
       "    <tr>\n",
       "      <th>0</th>\n",
       "      <td>3227</td>\n",
       "      <td>35</td>\n",
       "    </tr>\n",
       "    <tr>\n",
       "      <th>1</th>\n",
       "      <td>2820</td>\n",
       "      <td>35</td>\n",
       "    </tr>\n",
       "    <tr>\n",
       "      <th>2</th>\n",
       "      <td>3782</td>\n",
       "      <td>35</td>\n",
       "    </tr>\n",
       "    <tr>\n",
       "      <th>3</th>\n",
       "      <td>3745</td>\n",
       "      <td>34</td>\n",
       "    </tr>\n",
       "    <tr>\n",
       "      <th>4</th>\n",
       "      <td>3699</td>\n",
       "      <td>34</td>\n",
       "    </tr>\n",
       "    <tr>\n",
       "      <th>5</th>\n",
       "      <td>9152</td>\n",
       "      <td>32</td>\n",
       "    </tr>\n",
       "    <tr>\n",
       "      <th>6</th>\n",
       "      <td>8968</td>\n",
       "      <td>32</td>\n",
       "    </tr>\n",
       "    <tr>\n",
       "      <th>7</th>\n",
       "      <td>9256</td>\n",
       "      <td>32</td>\n",
       "    </tr>\n",
       "    <tr>\n",
       "      <th>8</th>\n",
       "      <td>4887</td>\n",
       "      <td>31</td>\n",
       "    </tr>\n",
       "    <tr>\n",
       "      <th>9</th>\n",
       "      <td>6568</td>\n",
       "      <td>31</td>\n",
       "    </tr>\n",
       "  </tbody>\n",
       "</table>\n",
       "</div>"
      ],
      "text/plain": [
       "  class  count\n",
       "0  3227     35\n",
       "1  2820     35\n",
       "2  3782     35\n",
       "3  3745     34\n",
       "4  3699     34\n",
       "5  9152     32\n",
       "6  8968     32\n",
       "7  9256     32\n",
       "8  4887     31\n",
       "9  6568     31"
      ]
     },
     "execution_count": 12,
     "metadata": {},
     "output_type": "execute_result"
    }
   ],
   "source": [
    "most_repeated"
   ]
  },
  {
   "cell_type": "code",
   "execution_count": 14,
   "id": "73da058d-1787-4521-bf85-782bf5a678e7",
   "metadata": {},
   "outputs": [
    {
     "ename": "FileExistsError",
     "evalue": "[WinError 183] Cannot create a file when that file already exists: 'D:\\\\CelebA_subset'",
     "output_type": "error",
     "traceback": [
      "\u001b[1;31m---------------------------------------------------------------------------\u001b[0m",
      "\u001b[1;31mFileExistsError\u001b[0m                           Traceback (most recent call last)",
      "Cell \u001b[1;32mIn[14], line 2\u001b[0m\n\u001b[0;32m      1\u001b[0m \u001b[38;5;28;01mimport\u001b[39;00m \u001b[38;5;21;01mos\u001b[39;00m\n\u001b[1;32m----> 2\u001b[0m os\u001b[38;5;241m.\u001b[39mmkdir(\u001b[38;5;124mr\u001b[39m\u001b[38;5;124m\"\u001b[39m\u001b[38;5;124mD:\u001b[39m\u001b[38;5;124m\\\u001b[39m\u001b[38;5;124mCelebA_subset\u001b[39m\u001b[38;5;124m\"\u001b[39m)\n",
      "\u001b[1;31mFileExistsError\u001b[0m: [WinError 183] Cannot create a file when that file already exists: 'D:\\\\CelebA_subset'"
     ]
    }
   ],
   "source": [
    "import os\n",
    "os.mkdir(r\"D:\\CelebA_subset\")"
   ]
  },
  {
   "cell_type": "code",
   "execution_count": 15,
   "id": "7fb8c8cb-d28f-42fb-a308-7cea54db476d",
   "metadata": {},
   "outputs": [],
   "source": [
    "import os\n",
    "import shutil\n",
    "\n",
    "# Base directories\n",
    "source_dir = r\"D:\\img_align_celeba\"\n",
    "destination_base_dir = r\"D:\\CelebA_subset\"\n",
    "\n",
    "# Ensure the destination base directory exists\n",
    "os.makedirs(destination_base_dir, exist_ok=True)\n",
    "\n",
    "# Iterate over each unique class in the DataFrame\n",
    "for class_label in most_repeated[\"class\"]:\n",
    "    # Define the path for the new class directory\n",
    "    class_dir = os.path.join(destination_base_dir, str(class_label))\n",
    "    # Create the class directory if it doesn't exist\n",
    "    os.makedirs(class_dir, exist_ok=True)\n",
    "\n",
    "    # Filter the DataFrame for images belonging to the current class\n",
    "    class_images = df[df[\"class\"] == class_label][\"name\"]\n",
    "\n",
    "    # Move each image to the corresponding class directory\n",
    "    for image_name in class_images:\n",
    "        source_path = os.path.join(source_dir, image_name)\n",
    "        destination_path = os.path.join(class_dir, image_name)\n",
    "\n",
    "        # Check if the source image exists\n",
    "        if os.path.exists(source_path):\n",
    "            shutil.move(source_path, destination_path)\n",
    "        else:\n",
    "            print(f\"Warning: {source_path} does not exist and will be skipped.\")\n"
   ]
  },
  {
   "cell_type": "code",
   "execution_count": null,
   "id": "ff673078-7e8c-4b6f-bcef-ffd131f92b2a",
   "metadata": {},
   "outputs": [],
   "source": []
  }
 ],
 "metadata": {
  "kernelspec": {
   "display_name": "Python 3 (ipykernel)",
   "language": "python",
   "name": "python3"
  },
  "language_info": {
   "codemirror_mode": {
    "name": "ipython",
    "version": 3
   },
   "file_extension": ".py",
   "mimetype": "text/x-python",
   "name": "python",
   "nbconvert_exporter": "python",
   "pygments_lexer": "ipython3",
   "version": "3.12.8"
  }
 },
 "nbformat": 4,
 "nbformat_minor": 5
}
